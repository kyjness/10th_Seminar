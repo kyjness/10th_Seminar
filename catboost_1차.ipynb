{
  "nbformat": 4,
  "nbformat_minor": 0,
  "metadata": {
    "colab": {
      "provenance": [],
      "include_colab_link": true
    },
    "kernelspec": {
      "name": "python3",
      "display_name": "Python 3"
    },
    "language_info": {
      "name": "python"
    }
  },
  "cells": [
    {
      "cell_type": "markdown",
      "metadata": {
        "id": "view-in-github",
        "colab_type": "text"
      },
      "source": [
        "<a href=\"https://colab.research.google.com/github/kyjness/10th_Seminar/blob/main/catboost_1%EC%B0%A8.ipynb\" target=\"_parent\"><img src=\"https://colab.research.google.com/assets/colab-badge.svg\" alt=\"Open In Colab\"/></a>"
      ]
    },
    {
      "cell_type": "code",
      "source": [
        "y!pip install catboost"
      ],
      "metadata": {
        "colab": {
          "base_uri": "https://localhost:8080/"
        },
        "id": "xxDjslIdIslu",
        "outputId": "cbde35f5-169c-44ca-b045-9b703405ff8d"
      },
      "execution_count": null,
      "outputs": [
        {
          "output_type": "stream",
          "name": "stdout",
          "text": [
            "Requirement already satisfied: catboost in /usr/local/lib/python3.11/dist-packages (1.2.7)\n",
            "Requirement already satisfied: graphviz in /usr/local/lib/python3.11/dist-packages (from catboost) (0.20.3)\n",
            "Requirement already satisfied: matplotlib in /usr/local/lib/python3.11/dist-packages (from catboost) (3.10.0)\n",
            "Requirement already satisfied: numpy<2.0,>=1.16.0 in /usr/local/lib/python3.11/dist-packages (from catboost) (1.26.4)\n",
            "Requirement already satisfied: pandas>=0.24 in /usr/local/lib/python3.11/dist-packages (from catboost) (2.2.2)\n",
            "Requirement already satisfied: scipy in /usr/local/lib/python3.11/dist-packages (from catboost) (1.13.1)\n",
            "Requirement already satisfied: plotly in /usr/local/lib/python3.11/dist-packages (from catboost) (5.24.1)\n",
            "Requirement already satisfied: six in /usr/local/lib/python3.11/dist-packages (from catboost) (1.17.0)\n",
            "Requirement already satisfied: python-dateutil>=2.8.2 in /usr/local/lib/python3.11/dist-packages (from pandas>=0.24->catboost) (2.8.2)\n",
            "Requirement already satisfied: pytz>=2020.1 in /usr/local/lib/python3.11/dist-packages (from pandas>=0.24->catboost) (2025.1)\n",
            "Requirement already satisfied: tzdata>=2022.7 in /usr/local/lib/python3.11/dist-packages (from pandas>=0.24->catboost) (2025.1)\n",
            "Requirement already satisfied: contourpy>=1.0.1 in /usr/local/lib/python3.11/dist-packages (from matplotlib->catboost) (1.3.1)\n",
            "Requirement already satisfied: cycler>=0.10 in /usr/local/lib/python3.11/dist-packages (from matplotlib->catboost) (0.12.1)\n",
            "Requirement already satisfied: fonttools>=4.22.0 in /usr/local/lib/python3.11/dist-packages (from matplotlib->catboost) (4.56.0)\n",
            "Requirement already satisfied: kiwisolver>=1.3.1 in /usr/local/lib/python3.11/dist-packages (from matplotlib->catboost) (1.4.8)\n",
            "Requirement already satisfied: packaging>=20.0 in /usr/local/lib/python3.11/dist-packages (from matplotlib->catboost) (24.2)\n",
            "Requirement already satisfied: pillow>=8 in /usr/local/lib/python3.11/dist-packages (from matplotlib->catboost) (11.1.0)\n",
            "Requirement already satisfied: pyparsing>=2.3.1 in /usr/local/lib/python3.11/dist-packages (from matplotlib->catboost) (3.2.1)\n",
            "Requirement already satisfied: tenacity>=6.2.0 in /usr/local/lib/python3.11/dist-packages (from plotly->catboost) (9.0.0)\n"
          ]
        }
      ]
    },
    {
      "cell_type": "code",
      "execution_count": null,
      "metadata": {
        "colab": {
          "base_uri": "https://localhost:8080/"
        },
        "id": "CSr_M7J_HeO3",
        "outputId": "78f852c2-040d-48c6-8d39-ace2a70d2ead"
      },
      "outputs": [
        {
          "output_type": "stream",
          "name": "stdout",
          "text": [
            "🔹 훈련 데이터 크기: (300000, 11)\n",
            "🔹 테스트 데이터 크기: (200000, 10)\n",
            "✅ 데이터 전처리 완료!\n"
          ]
        }
      ],
      "source": [
        "from google.colab import drive\n",
        "import pandas as pd\n",
        "import numpy as np\n",
        "from sklearn.model_selection import train_test_split\n",
        "from catboost import CatBoostRegressor\n",
        "from sklearn.metrics import mean_squared_error, mean_absolute_error, r2_score\n",
        "\n",
        "# 데이터 로드 (훈련 데이터와 테스트 데이터)\n",
        "train_data = pd.read_csv('/train.csv')  # Price 포함된 훈련 데이터\n",
        "test_data = pd.read_csv(\"/test.csv\")    # Price 제거된 테스트 데이터\n",
        "\n",
        "# 훈련 데이터 확인\n",
        "print(\"🔹 훈련 데이터 크기:\", train_data.shape)\n",
        "print(\"🔹 테스트 데이터 크기:\", test_data.shape)\n",
        "\n",
        "# 범주형 변수 결측값 -> Unknown으로 대체\n",
        "cat_cols = ['Brand', 'Material', 'Size', 'Style', 'Color', 'Laptop Compartment', 'Waterproof']\n",
        "train_data[cat_cols] = train_data[cat_cols].fillna(\"Unknown\")\n",
        "test_data[cat_cols] = test_data[cat_cols].fillna(\"Unknown\")\n",
        "#수치형 변수 결측값 -> median으로 대체\n",
        "num_cols1 = ['Compartments', 'Weight Capacity (kg)', 'Price']\n",
        "num_cols2 = ['Compartments', 'Weight Capacity (kg)']\n",
        "train_data[num_cols1] = train_data[num_cols1].fillna(train_data[num_cols1].median())\n",
        "test_data[num_cols2] = test_data[num_cols2].fillna(test_data[num_cols2].median())\n",
        "\n",
        "\n",
        "# 범주형 변수 리스트\n",
        "cat_cols = ['Brand', 'Material', 'Size', 'Style', 'Color', 'Laptop Compartment', 'Waterproof']\n",
        "\n",
        "# 범주형 변수를 category 타입으로 변경 (CatBoost에서 자동 인식)\n",
        "for col in cat_cols:\n",
        "    train_data[col] = train_data[col].astype(\"category\")\n",
        "    test_data[col] = test_data[col].astype(\"category\")\n",
        "\n",
        "# Feature (X) / Target (y) 분리\n",
        "X = train_data.drop(columns=[\"Price\"])\n",
        "y = train_data[\"Price\"]\n",
        "\n",
        "# Train / Validation 데이터 분할\n",
        "X_train, X_valid, y_train, y_valid = train_test_split(X, y, test_size=0.2, random_state=42)\n",
        "\n",
        "print(\"✅ 데이터 전처리 완료!\")"
      ]
    },
    {
      "cell_type": "code",
      "source": [
        "# CatBoost 모델 정의 및 학습\n",
        "model = CatBoostRegressor(\n",
        "    iterations=2000,   # 트리 개수 (증가 가능)\n",
        "    learning_rate=0.01,  # 학습률\n",
        "    depth=8,  # 트리 깊이 (6~10 추천)\n",
        "    cat_features=cat_cols,  # 범주형 변수 전달\n",
        "    loss_function='RMSE',  # 손실 함수\n",
        "    eval_metric='RMSE',  # 평가 지표\n",
        "    verbose=100,  # 학습 과정 출력\n",
        "    early_stopping_rounds=50  # 과적합 방지\n",
        ")\n",
        "\n",
        "# 모델 학습\n",
        "model.fit(X_train, y_train, eval_set=(X_valid, y_valid), early_stopping_rounds=50)\n",
        "\n",
        "print(\"✅ CatBoost 모델 학습 완료!\")"
      ],
      "metadata": {
        "colab": {
          "base_uri": "https://localhost:8080/"
        },
        "id": "0gYAj2osKR5-",
        "outputId": "8399bd68-8e50-415b-b8ea-02a509594c8a"
      },
      "execution_count": null,
      "outputs": [
        {
          "output_type": "stream",
          "name": "stdout",
          "text": [
            "0:\tlearn: 39.0627102\ttest: 38.9439199\tbest: 38.9439199 (0)\ttotal: 502ms\tremaining: 16m 42s\n",
            "100:\tlearn: 39.0344511\ttest: 38.9222107\tbest: 38.9222107 (100)\ttotal: 37.3s\tremaining: 11m 41s\n",
            "200:\tlearn: 39.0206442\ttest: 38.9155885\tbest: 38.9155885 (200)\ttotal: 1m 11s\tremaining: 10m 36s\n",
            "300:\tlearn: 39.0110355\ttest: 38.9135133\tbest: 38.9135112 (299)\ttotal: 1m 47s\tremaining: 10m 9s\n",
            "400:\tlearn: 39.0036618\ttest: 38.9125334\tbest: 38.9125252 (398)\ttotal: 2m 22s\tremaining: 9m 27s\n",
            "500:\tlearn: 38.9976052\ttest: 38.9119542\tbest: 38.9119287 (495)\ttotal: 2m 55s\tremaining: 8m 45s\n",
            "600:\tlearn: 38.9904206\ttest: 38.9113185\tbest: 38.9113185 (600)\ttotal: 3m 31s\tremaining: 8m 11s\n",
            "700:\tlearn: 38.9846814\ttest: 38.9111472\tbest: 38.9111069 (691)\ttotal: 4m 5s\tremaining: 7m 35s\n",
            "800:\tlearn: 38.9785108\ttest: 38.9108649\tbest: 38.9108649 (800)\ttotal: 4m 42s\tremaining: 7m 3s\n",
            "900:\tlearn: 38.9726620\ttest: 38.9103013\tbest: 38.9103013 (900)\ttotal: 5m 17s\tremaining: 6m 27s\n",
            "1000:\tlearn: 38.9654103\ttest: 38.9098761\tbest: 38.9098540 (997)\ttotal: 5m 55s\tremaining: 5m 55s\n",
            "Stopped by overfitting detector  (50 iterations wait)\n",
            "\n",
            "bestTest = 38.909854\n",
            "bestIteration = 997\n",
            "\n",
            "Shrink model to first 998 iterations.\n",
            "✅ CatBoost 모델 학습 완료!\n"
          ]
        }
      ]
    },
    {
      "cell_type": "markdown",
      "source": [
        "#catboost 성능 개선 원할 시\n",
        "\t•\titerations=1000 → 2000으로 증가 (더 많은 학습)\n",
        "\t•\tdepth=6 → 8로 증가 (더 복잡한 패턴 학습)\n",
        "\t•\tlearning_rate=0.05 → 0.01로 조정 (더 세밀한 학습)\n",
        "\t•\tearly_stopping_rounds=50을 조정 (과적합 방지)"
      ],
      "metadata": {
        "id": "gddjL9IaOiof"
      }
    },
    {
      "cell_type": "code",
      "source": [
        "# 검증 데이터 예측\n",
        "y_pred_valid = model.predict(X_valid)\n",
        "\n",
        "# 성능 평가 지표 계산\n",
        "rmse = np.sqrt(mean_squared_error(y_valid, y_pred_valid))\n",
        "mae = mean_absolute_error(y_valid, y_pred_valid)\n",
        "r2 = r2_score(y_valid, y_pred_valid)\n",
        "\n",
        "print(f\"📊 모델 성능 평가:\")\n",
        "print(f\"🔹 RMSE (Root Mean Squared Error): {rmse:.4f}\")\n",
        "print(f\"🔹 MAE (Mean Absolute Error): {mae:.4f}\")\n",
        "print(f\"🔹 R² (R-Squared): {r2:.4f}\")"
      ],
      "metadata": {
        "colab": {
          "base_uri": "https://localhost:8080/"
        },
        "id": "0vjzLtKjKW6-",
        "outputId": "bd5de5d3-89ae-4533-8d1d-7415eabc21ac"
      },
      "execution_count": null,
      "outputs": [
        {
          "output_type": "stream",
          "name": "stdout",
          "text": [
            "📊 모델 성능 평가:\n",
            "🔹 RMSE (Root Mean Squared Error): 38.9099\n",
            "🔹 MAE (Mean Absolute Error): 33.6373\n",
            "🔹 R² (R-Squared): 0.0017\n"
          ]
        }
      ]
    },
    {
      "cell_type": "code",
      "source": [
        "# 테스트 데이터 예측\n",
        "test_predictions = model.predict(test_data)\n",
        "\n",
        "# 예측 결과 저장\n",
        "test_data[\"Predicted_Price\"] = test_predictions\n",
        "test_data.to_csv(\"test_predictions.csv\", index=False)\n",
        "\n",
        "print(\"✅ 테스트 데이터 예측 완료! 결과가 test_predictions.csv에 저장되었습니다.\")"
      ],
      "metadata": {
        "colab": {
          "base_uri": "https://localhost:8080/"
        },
        "id": "0UEgWsjrKY18",
        "outputId": "e35278d3-a17b-44b1-a31b-e81ac8ab33eb"
      },
      "execution_count": null,
      "outputs": [
        {
          "output_type": "stream",
          "name": "stdout",
          "text": [
            "✅ 테스트 데이터 예측 완료! 결과가 test_predictions.csv에 저장되었습니다.\n"
          ]
        }
      ]
    },
    {
      "cell_type": "code",
      "source": [
        "import pandas as pd\n",
        "\n",
        "# ID를 30000부터 시작하도록 재설정\n",
        "submission = pd.DataFrame({\n",
        "    \"id\": range(300000, 300000 + len(test_predictions)),  # 30000번부터 시작하는 ID 생성\n",
        "    \"Price\": test_predictions  # 예측된 가격\n",
        "})\n",
        "\n",
        "# 소수점 3자리까지 반올림\n",
        "submission[\"Price\"] = submission[\"Price\"].round(3)\n",
        "\n",
        "# CSV 파일로 저장 (컴퓨터에 저장)\n",
        "file_path = \"submission.csv\"\n",
        "submission.to_csv(file_path, index=False)\n",
        "\n",
        "# 저장된 파일 확인\n",
        "print(\"✅ 예측 결과가 'submission.csv'로 저장되었습니다!\")\n",
        "print(submission.head(10))  # 상위 10개 샘플 확인\n",
        "\n",
        "from google.colab import files\n",
        "files.download(\"submission.csv\")"
      ],
      "metadata": {
        "colab": {
          "base_uri": "https://localhost:8080/",
          "height": 233
        },
        "id": "nbieWqb4MVGG",
        "outputId": "ae385404-9cf8-4391-f25f-6d7a359b93e4"
      },
      "execution_count": null,
      "outputs": [
        {
          "output_type": "stream",
          "name": "stdout",
          "text": [
            "✅ 예측 결과가 'submission.csv'로 저장되었습니다!\n",
            "       id   Price\n",
            "0  300000  82.338\n",
            "1  300001  82.263\n",
            "2  300002  82.052\n",
            "3  300003  82.218\n",
            "4  300004  81.150\n",
            "5  300005  82.669\n",
            "6  300006  82.385\n",
            "7  300007  82.883\n",
            "8  300008  83.165\n",
            "9  300009  81.546\n"
          ]
        },
        {
          "output_type": "display_data",
          "data": {
            "text/plain": [
              "<IPython.core.display.Javascript object>"
            ],
            "application/javascript": [
              "\n",
              "    async function download(id, filename, size) {\n",
              "      if (!google.colab.kernel.accessAllowed) {\n",
              "        return;\n",
              "      }\n",
              "      const div = document.createElement('div');\n",
              "      const label = document.createElement('label');\n",
              "      label.textContent = `Downloading \"${filename}\": `;\n",
              "      div.appendChild(label);\n",
              "      const progress = document.createElement('progress');\n",
              "      progress.max = size;\n",
              "      div.appendChild(progress);\n",
              "      document.body.appendChild(div);\n",
              "\n",
              "      const buffers = [];\n",
              "      let downloaded = 0;\n",
              "\n",
              "      const channel = await google.colab.kernel.comms.open(id);\n",
              "      // Send a message to notify the kernel that we're ready.\n",
              "      channel.send({})\n",
              "\n",
              "      for await (const message of channel.messages) {\n",
              "        // Send a message to notify the kernel that we're ready.\n",
              "        channel.send({})\n",
              "        if (message.buffers) {\n",
              "          for (const buffer of message.buffers) {\n",
              "            buffers.push(buffer);\n",
              "            downloaded += buffer.byteLength;\n",
              "            progress.value = downloaded;\n",
              "          }\n",
              "        }\n",
              "      }\n",
              "      const blob = new Blob(buffers, {type: 'application/binary'});\n",
              "      const a = document.createElement('a');\n",
              "      a.href = window.URL.createObjectURL(blob);\n",
              "      a.download = filename;\n",
              "      div.appendChild(a);\n",
              "      a.click();\n",
              "      div.remove();\n",
              "    }\n",
              "  "
            ]
          },
          "metadata": {}
        },
        {
          "output_type": "display_data",
          "data": {
            "text/plain": [
              "<IPython.core.display.Javascript object>"
            ],
            "application/javascript": [
              "download(\"download_9f5a09fa-6fdb-42e2-a6df-089e4d4f03ae\", \"submission.csv\", 2778211)"
            ]
          },
          "metadata": {}
        }
      ]
    }
  ]
}